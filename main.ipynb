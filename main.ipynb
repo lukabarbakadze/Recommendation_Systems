{
 "cells": [
  {
   "attachments": {},
   "cell_type": "markdown",
   "metadata": {},
   "source": [
    "# Imports"
   ]
  },
  {
   "cell_type": "code",
   "execution_count": 1,
   "metadata": {},
   "outputs": [],
   "source": [
    "import re\n",
    "from datetime import datetime\n",
    "import numpy as np\n",
    "import pandas as pd\n",
    "import matplotlib.pyplot as plt\n",
    "\n",
    "import torch\n",
    "from torch import nn\n",
    "from torch.utils.data import Dataset, DataLoader\n",
    "import torch.nn.functional as F\n",
    "from torchsummary import summary\n",
    "\n",
    "from tqdm import tqdm\n",
    "from sklearn.model_selection import train_test_split\n",
    "\n",
    "import faiss"
   ]
  },
  {
   "attachments": {},
   "cell_type": "markdown",
   "metadata": {},
   "source": [
    "## Data Preprocessing"
   ]
  },
  {
   "cell_type": "code",
   "execution_count": 22,
   "metadata": {},
   "outputs": [],
   "source": [
    "# read & merge data\n",
    "movies = pd.read_csv('Data/movies.csv')\n",
    "ratings = pd.read_csv('Data/ratings.csv')\n",
    "df = pd.merge(ratings, movies, on='movieId')\n",
    "df.sort_values(by=['userId', 'timestamp'], inplace=True)"
   ]
  },
  {
   "cell_type": "code",
   "execution_count": 23,
   "metadata": {},
   "outputs": [
    {
     "name": "stdout",
     "output_type": "stream",
     "text": [
      "Total Numbers of Users: 668\n",
      "Total Number of Movies: 10325\n",
      "Unique Ratings: 10\n"
     ]
    }
   ],
   "source": [
    "# assign unique index for each user & movie & rating and map dataframe columns to it\n",
    "userid2id = {val:idx for idx, val in enumerate(sorted(df.userId.unique()))}\n",
    "movieId2id = {val:idx for idx, val in enumerate(sorted(df.movieId.unique()))}\n",
    "rating2id = {val:idx for idx, val in enumerate(sorted(df.rating.unique()))}\n",
    "\n",
    "df['userId'] = df.userId.apply(lambda x: userid2id[x])\n",
    "df['movieId'] = df.movieId.apply(lambda x: movieId2id[x])\n",
    "df['rating_classes'] = df.rating.apply(lambda x: rating2id[x])\n",
    "\n",
    "print(f'Total Numbers of Users: {df.userId.unique().shape[0]}')\n",
    "print(f'Total Number of Movies: {df.movieId.unique().shape[0]}')\n",
    "print(f'Unique Ratings: {df.rating.unique().shape[0]}')"
   ]
  },
  {
   "cell_type": "code",
   "execution_count": 24,
   "metadata": {},
   "outputs": [
    {
     "data": {
      "text/html": [
       "<div>\n",
       "<style scoped>\n",
       "    .dataframe tbody tr th:only-of-type {\n",
       "        vertical-align: middle;\n",
       "    }\n",
       "\n",
       "    .dataframe tbody tr th {\n",
       "        vertical-align: top;\n",
       "    }\n",
       "\n",
       "    .dataframe thead th {\n",
       "        text-align: right;\n",
       "    }\n",
       "</style>\n",
       "<table border=\"1\" class=\"dataframe\">\n",
       "  <thead>\n",
       "    <tr style=\"text-align: right;\">\n",
       "      <th></th>\n",
       "      <th>userId</th>\n",
       "      <th>movieId</th>\n",
       "      <th>rating</th>\n",
       "      <th>timestamp</th>\n",
       "      <th>title</th>\n",
       "      <th>genres</th>\n",
       "      <th>rating_classes</th>\n",
       "    </tr>\n",
       "  </thead>\n",
       "  <tbody>\n",
       "    <tr>\n",
       "      <th>11486</th>\n",
       "      <td>0</td>\n",
       "      <td>2712</td>\n",
       "      <td>4.5</td>\n",
       "      <td>1217895728</td>\n",
       "      <td>Animal House (1978)</td>\n",
       "      <td>Comedy</td>\n",
       "      <td>8</td>\n",
       "    </tr>\n",
       "    <tr>\n",
       "      <th>9898</th>\n",
       "      <td>0</td>\n",
       "      <td>1916</td>\n",
       "      <td>2.5</td>\n",
       "      <td>1217895736</td>\n",
       "      <td>Cocoon (1985)</td>\n",
       "      <td>Comedy|Sci-Fi</td>\n",
       "      <td>4</td>\n",
       "    </tr>\n",
       "    <tr>\n",
       "      <th>11174</th>\n",
       "      <td>0</td>\n",
       "      <td>2357</td>\n",
       "      <td>3.5</td>\n",
       "      <td>1217895742</td>\n",
       "      <td>Goldfinger (1964)</td>\n",
       "      <td>Action|Adventure|Thriller</td>\n",
       "      <td>6</td>\n",
       "    </tr>\n",
       "    <tr>\n",
       "      <th>1912</th>\n",
       "      <td>0</td>\n",
       "      <td>231</td>\n",
       "      <td>1.5</td>\n",
       "      <td>1217895750</td>\n",
       "      <td>Little Women (1994)</td>\n",
       "      <td>Drama</td>\n",
       "      <td>2</td>\n",
       "    </tr>\n",
       "    <tr>\n",
       "      <th>9960</th>\n",
       "      <td>0</td>\n",
       "      <td>1962</td>\n",
       "      <td>2.0</td>\n",
       "      <td>1217895762</td>\n",
       "      <td>Fly, The (1986)</td>\n",
       "      <td>Drama|Horror|Sci-Fi|Thriller</td>\n",
       "      <td>3</td>\n",
       "    </tr>\n",
       "  </tbody>\n",
       "</table>\n",
       "</div>"
      ],
      "text/plain": [
       "       userId  movieId  rating   timestamp                title  \\\n",
       "11486       0     2712     4.5  1217895728  Animal House (1978)   \n",
       "9898        0     1916     2.5  1217895736        Cocoon (1985)   \n",
       "11174       0     2357     3.5  1217895742    Goldfinger (1964)   \n",
       "1912        0      231     1.5  1217895750  Little Women (1994)   \n",
       "9960        0     1962     2.0  1217895762      Fly, The (1986)   \n",
       "\n",
       "                             genres  rating_classes  \n",
       "11486                        Comedy               8  \n",
       "9898                  Comedy|Sci-Fi               4  \n",
       "11174     Action|Adventure|Thriller               6  \n",
       "1912                          Drama               2  \n",
       "9960   Drama|Horror|Sci-Fi|Thriller               3  "
      ]
     },
     "execution_count": 24,
     "metadata": {},
     "output_type": "execute_result"
    }
   ],
   "source": [
    "df.head()"
   ]
  },
  {
   "cell_type": "code",
   "execution_count": 25,
   "metadata": {},
   "outputs": [
    {
     "name": "stdout",
     "output_type": "stream",
     "text": [
      "<class 'pandas.core.frame.DataFrame'>\n",
      "Int64Index: 105339 entries, 11486 to 105006\n",
      "Data columns (total 7 columns):\n",
      " #   Column          Non-Null Count   Dtype  \n",
      "---  ------          --------------   -----  \n",
      " 0   userId          105339 non-null  int64  \n",
      " 1   movieId         105339 non-null  int64  \n",
      " 2   rating          105339 non-null  float64\n",
      " 3   timestamp       105339 non-null  int64  \n",
      " 4   title           105339 non-null  object \n",
      " 5   genres          105339 non-null  object \n",
      " 6   rating_classes  105339 non-null  int64  \n",
      "dtypes: float64(1), int64(4), object(2)\n",
      "memory usage: 6.4+ MB\n"
     ]
    }
   ],
   "source": [
    "df.info()"
   ]
  },
  {
   "cell_type": "code",
   "execution_count": 26,
   "metadata": {},
   "outputs": [
    {
     "data": {
      "text/plain": [
       "4.0    28880\n",
       "3.0    21729\n",
       "5.0    14856\n",
       "3.5    12237\n",
       "4.5     8187\n",
       "2.0     7943\n",
       "2.5     5484\n",
       "1.0     3258\n",
       "1.5     1567\n",
       "0.5     1198\n",
       "Name: rating, dtype: int64"
      ]
     },
     "execution_count": 26,
     "metadata": {},
     "output_type": "execute_result"
    }
   ],
   "source": [
    "df.rating.value_counts()"
   ]
  },
  {
   "attachments": {},
   "cell_type": "markdown",
   "metadata": {},
   "source": [
    "* There is no null-values in dataset\n",
    "* Number of movies rated 0 & 1 & 2 are relatively low"
   ]
  },
  {
   "attachments": {},
   "cell_type": "markdown",
   "metadata": {},
   "source": [
    "#### Feature Engineering"
   ]
  },
  {
   "cell_type": "code",
   "execution_count": 27,
   "metadata": {},
   "outputs": [],
   "source": [
    "# extract information from time column\n",
    "df.loc[:, 'timestamp'] = df.timestamp.apply(lambda x: datetime.fromtimestamp(x))\n",
    "\n",
    "df['quarter'] = df.timestamp.dt.quarter\n",
    "df['month'] = df.timestamp.dt.month\n",
    "df['day'] = df.timestamp.dt.weekday\n",
    "df['hour'] = df.timestamp.dt.hour\n",
    "df['weekend'] = df.timestamp.apply(lambda x: 1 if x.dayofweek > 5 else 0)\n",
    "\n",
    "# construct part_of_day columns with values [Morning, Afternoon, Evening, Night]\n",
    "def get_part_of_day(datetime_obj):\n",
    "    time_of_day = pd.to_datetime(datetime_obj).strftime('%H:%M:%S')\n",
    "    part_of_day = ''\n",
    "    \n",
    "    if '06:00:00' <= time_of_day < '12:00:00':\n",
    "        part_of_day = 'Morning'\n",
    "    elif '12:00:00' <= time_of_day < '18:00:00':\n",
    "        part_of_day = 'Afternoon'\n",
    "    elif '18:00:00' <= time_of_day < '22:00:00':\n",
    "        part_of_day = 'Evening'\n",
    "    else:\n",
    "        part_of_day = 'Night'\n",
    "    \n",
    "    return part_of_day\n",
    "\n",
    "df['part_of_day'] = df.timestamp.apply(lambda x: get_part_of_day(x))\n",
    "\n",
    "# create decade dummy columns\n",
    "def extract_decade(datetime_obj):\n",
    "    year = datetime_obj.year\n",
    "    start_year = (year // 10) * 10\n",
    "    end_year = start_year + 9\n",
    "    decade = f'{start_year}-{end_year}'\n",
    "    return decade\n",
    "\n",
    "df['release_decade'] = df.timestamp.apply(lambda x: extract_decade(x))\n",
    "\n",
    "# create movie_age columns which shows time after it's release\n",
    "mx = df.timestamp.max()\n",
    "df['movie_age'] = df.timestamp.apply(lambda x: (mx - x).days / 360)\n",
    "### add square root of movie_age\n",
    "df['movie_age_sqrt'] = np.sqrt(df['movie_age'])\n",
    "\n",
    "# create time variable which ordinally shows watched movies timeline\n",
    "df['time'] = np.nan\n",
    "for i in range(df.userId.unique().size):\n",
    "    df.loc[df.userId==i, 'time'] = np.arange(1, df.loc[df.userId==i, 'time'].size+1, dtype=int)\n",
    "### add square root & square of time\n",
    "df['time_sqrt'] = np.square(df['time'])\n",
    "df['time_square'] = np.sqrt(df['time'])"
   ]
  },
  {
   "cell_type": "code",
   "execution_count": 28,
   "metadata": {},
   "outputs": [],
   "source": [
    "# each film could be in several genre, so simple pd.get_dummies do not work here\n",
    "# instead, let's use following approach:\n",
    "# each dummy column shows whether movie belongs this genre or not (so one film could be in several genres)\n",
    "genres = []\n",
    "\n",
    "for idx, val in df[['genres']].itertuples():\n",
    "    l = val.split('|')\n",
    "    for genre in l:\n",
    "        if genre not in genres:\n",
    "            genres.append(genre)\n",
    "\n",
    "for genre in genres:\n",
    "    df[genre] = 0\n",
    "    for idx, val in df[[genre]].itertuples():\n",
    "        if genre in df.iloc[idx,5]:\n",
    "            df.iloc[idx,-1] = 1"
   ]
  },
  {
   "cell_type": "code",
   "execution_count": 29,
   "metadata": {},
   "outputs": [],
   "source": [
    "### convert time categorical columns to dummy columns\n",
    "dummy_cols = ['quarter', 'month', 'day', 'part_of_day', 'weekend', 'release_decade']\n",
    "df = pd.concat([df, pd.get_dummies(df[dummy_cols], columns=dummy_cols, drop_first=True)], axis=1)"
   ]
  },
  {
   "cell_type": "code",
   "execution_count": 30,
   "metadata": {},
   "outputs": [
    {
     "data": {
      "text/plain": [
       "Index(['userId', 'movieId', 'rating', 'timestamp', 'title', 'genres',\n",
       "       'rating_classes', 'quarter', 'month', 'day', 'hour', 'weekend',\n",
       "       'part_of_day', 'release_decade', 'movie_age', 'movie_age_sqrt', 'time',\n",
       "       'time_sqrt', 'time_square', 'Comedy', 'Sci-Fi', 'Action', 'Adventure',\n",
       "       'Thriller', 'Drama', 'Horror', 'Crime', 'War', 'Children', 'Fantasy',\n",
       "       'Animation', 'Romance', 'IMAX', 'Mystery', 'Western', 'Film-Noir',\n",
       "       'Documentary', 'Musical', '(no genres listed)', 'quarter_2',\n",
       "       'quarter_3', 'quarter_4', 'month_2', 'month_3', 'month_4', 'month_5',\n",
       "       'month_6', 'month_7', 'month_8', 'month_9', 'month_10', 'month_11',\n",
       "       'month_12', 'day_1', 'day_2', 'day_3', 'day_4', 'day_5', 'day_6',\n",
       "       'part_of_day_Evening', 'part_of_day_Morning', 'part_of_day_Night',\n",
       "       'weekend_1', 'release_decade_2000-2009', 'release_decade_2010-2019'],\n",
       "      dtype='object')"
      ]
     },
     "execution_count": 30,
     "metadata": {},
     "output_type": "execute_result"
    }
   ],
   "source": [
    "df.columns"
   ]
  },
  {
   "attachments": {},
   "cell_type": "markdown",
   "metadata": {},
   "source": [
    "## Matrix Factorization"
   ]
  },
  {
   "cell_type": "code",
   "execution_count": 31,
   "metadata": {},
   "outputs": [],
   "source": [
    "features1 = ['movie_age', 'movie_age_sqrt', 'time', 'time_sqrt',\n",
    "            'time_square', 'Comedy', 'Sci-Fi', 'Action', 'Adventure', 'Thriller',\n",
    "            'Drama', 'Horror', 'Crime', 'War', 'Children', 'Fantasy', 'Animation',\n",
    "            'Romance', 'IMAX', 'Mystery', 'Western', 'Film-Noir', 'Documentary',\n",
    "            'Musical', '(no genres listed)', 'quarter_2', 'quarter_3', 'quarter_4',\n",
    "            'month_2', 'month_3', 'month_4', 'month_5', 'month_6', 'month_7',\n",
    "            'month_8', 'month_9', 'month_10', 'month_11', 'month_12', 'day_1',\n",
    "            'day_2', 'day_3', 'day_4', 'day_5', 'day_6', 'part_of_day_Evening',\n",
    "            'part_of_day_Morning', 'part_of_day_Night', 'weekend_1',\n",
    "            'release_decade_2000-2009', 'release_decade_2010-2019']\n",
    "\n",
    "train_df, val_df = train_test_split(df, test_size=0.1, random_state=4444)\n",
    "train_df, test_df = train_test_split(train_df, test_size=0.1, random_state=4444)\n",
    "\n",
    "train_x, train_idxs, train_y = train_df[features1].values, train_df[['movieId', 'userId']].values, train_df['rating'].values\n",
    "val_x, val_idxs, val_y = val_df[features1].values, val_df[['movieId', 'userId']].values, val_df['rating'].values\n",
    "test_x, test_idxs, test_y = test_df[features1].values, test_df[['movieId', 'userId']].values, test_df['rating'].values\n",
    "\n",
    "train_x, train_idxs, train_y = torch.Tensor(train_x), torch.Tensor(train_idxs).long(), torch.Tensor(train_y)\n",
    "val_x, val_idxs, val_y = torch.Tensor(val_x), torch.Tensor(val_idxs).long(), torch.Tensor(val_y)\n",
    "test_x, test_idxs, test_y = torch.Tensor(test_x), torch.Tensor(test_idxs,).long(), torch.Tensor(test_y)\n",
    "\n",
    "# lets also normilize data based on training statistics\n",
    "means = train_x.mean(axis=0)\n",
    "stds = train_x.std(axis=0)\n",
    "\n",
    "train_x = torch.divide(torch.subtract(train_x, means), stds)\n",
    "val_x = torch.divide(torch.subtract(val_x, means), stds)\n",
    "test_x = torch.divide(torch.subtract(test_x, means), stds)"
   ]
  },
  {
   "cell_type": "code",
   "execution_count": 32,
   "metadata": {},
   "outputs": [],
   "source": [
    "class MatrixFactorizationDataset(Dataset):\n",
    "    def __init__(self, x, indexes, y):\n",
    "        self.x = x\n",
    "        self.indexes = indexes\n",
    "        self.y = y\n",
    "    \n",
    "    def __len__(self):\n",
    "        return len(self.x)\n",
    "    \n",
    "    def __getitem__(self, idx):\n",
    "        return (self.x[idx],\n",
    "                self.indexes[idx],\n",
    "                self.y[idx])"
   ]
  },
  {
   "cell_type": "code",
   "execution_count": 33,
   "metadata": {},
   "outputs": [],
   "source": [
    "class MatrixFactorizationMachine(nn.Module):\n",
    "    def __init__(self, n_users, n_movies, embd_dim, features_dim, dropout=0.4):\n",
    "        super().__init__()\n",
    "        # initialize user & movie embeddings\n",
    "        self.user_embd = nn.Embedding(n_users, embd_dim)\n",
    "        self.movie_embd = nn.Embedding(n_movies, embd_dim)\n",
    "        # initialize linear layer\n",
    "        self.ln = nn.Linear(features_dim + 2 * embd_dim, 1)\n",
    "        self.dropout = nn.Dropout(dropout)\n",
    "\n",
    "    def forward(self, x, idxs):\n",
    "        # get movie & user embeddings\n",
    "        movie_emb = self.movie_embd(idxs[:,0])\n",
    "        user_emb = self.user_embd(idxs[:,1])\n",
    "        # pass it to linear layer\n",
    "        out = torch.cat([user_emb, movie_emb, x], dim=1)\n",
    "        out = self.dropout(out)\n",
    "        out = self.ln(out)\n",
    "        return out"
   ]
  },
  {
   "cell_type": "code",
   "execution_count": 34,
   "metadata": {},
   "outputs": [],
   "source": [
    "n_epoch = 30\n",
    "n_embd = 32\n",
    "batch_size=4096"
   ]
  },
  {
   "cell_type": "code",
   "execution_count": 35,
   "metadata": {},
   "outputs": [
    {
     "name": "stdout",
     "output_type": "stream",
     "text": [
      "torch.Size([4096, 51]) torch.Size([4096, 2]) torch.Size([4096])\n"
     ]
    }
   ],
   "source": [
    "train_dataset = MatrixFactorizationDataset(train_x, train_idxs, train_y)\n",
    "val_dataset = MatrixFactorizationDataset(val_x, val_idxs, val_y)\n",
    "test_dataset = MatrixFactorizationDataset(test_x, test_idxs, test_y)\n",
    "\n",
    "train_loader = DataLoader(train_dataset, batch_size=batch_size, shuffle=True)\n",
    "val_loader = DataLoader(val_dataset, batch_size=batch_size, shuffle=True)\n",
    "test_loader = DataLoader(test_dataset, batch_size=batch_size, shuffle=False)\n",
    "\n",
    "for n, (a,b,c) in enumerate(val_loader):\n",
    "    print(a.shape, b.shape, c.shape)\n",
    "    break"
   ]
  },
  {
   "cell_type": "code",
   "execution_count": 37,
   "metadata": {},
   "outputs": [
    {
     "data": {
      "text/plain": [
       "RecommenderSystem(\n",
       "  (user_embd): Embedding(668, 32)\n",
       "  (movie_embd): Embedding(10325, 32)\n",
       "  (ln): Linear(in_features=141, out_features=1, bias=True)\n",
       "  (dropout): Dropout(p=0.4, inplace=False)\n",
       ")"
      ]
     },
     "execution_count": 37,
     "metadata": {},
     "output_type": "execute_result"
    }
   ],
   "source": [
    "model = MatrixFactorizationMachine( n_users=df.userId.unique().shape[0], \n",
    "                                    n_movies=df.movieId.unique().shape[0], \n",
    "                                    embd_dim=n_embd,\n",
    "                                    features_dim=a.shape[1])\n",
    "model"
   ]
  },
  {
   "cell_type": "code",
   "execution_count": 37,
   "metadata": {},
   "outputs": [
    {
     "name": "stdout",
     "output_type": "stream",
     "text": [
      "=================================================================\n",
      "Layer (type:depth-idx)                   Param #\n",
      "=================================================================\n",
      "├─Embedding: 1-1                         21,376\n",
      "├─Embedding: 1-2                         330,400\n",
      "├─Linear: 1-3                            113\n",
      "├─Dropout: 1-4                           --\n",
      "=================================================================\n",
      "Total params: 351,889\n",
      "Trainable params: 351,889\n",
      "Non-trainable params: 0\n",
      "=================================================================\n"
     ]
    },
    {
     "data": {
      "text/plain": [
       "=================================================================\n",
       "Layer (type:depth-idx)                   Param #\n",
       "=================================================================\n",
       "├─Embedding: 1-1                         21,376\n",
       "├─Embedding: 1-2                         330,400\n",
       "├─Linear: 1-3                            113\n",
       "├─Dropout: 1-4                           --\n",
       "=================================================================\n",
       "Total params: 351,889\n",
       "Trainable params: 351,889\n",
       "Non-trainable params: 0\n",
       "================================================================="
      ]
     },
     "execution_count": 37,
     "metadata": {},
     "output_type": "execute_result"
    }
   ],
   "source": [
    "summary(model, input=(a,b,c))"
   ]
  },
  {
   "cell_type": "code",
   "execution_count": 38,
   "metadata": {},
   "outputs": [],
   "source": [
    "loss_fn = torch.nn.MSELoss()\n",
    "optimizer = torch.optim.Adam(model.parameters(), lr=0.01)\n",
    "scheduler = torch.optim.lr_scheduler.ReduceLROnPlateau(optimizer, factor=0.1, patience=3, verbose=False)"
   ]
  },
  {
   "cell_type": "code",
   "execution_count": 39,
   "metadata": {},
   "outputs": [
    {
     "name": "stdout",
     "output_type": "stream",
     "text": [
      "Epoch: 1 | Train Loss: 10.58 | Val Loss: 5.261\n",
      "Epoch: 6 | Train Loss: 1.458 | Val Loss: 0.8596\n",
      "Epoch: 11 | Train Loss: 1.098 | Val Loss: 0.7833\n",
      "Epoch: 16 | Train Loss: 0.958 | Val Loss: 0.7815\n",
      "Epoch: 21 | Train Loss: 0.8849 | Val Loss: 0.7693\n",
      "Epoch: 26 | Train Loss: 0.833 | Val Loss: 0.774\n"
     ]
    }
   ],
   "source": [
    "## training loop\n",
    "train_epoch_logs, val_epoch_logs = [], []\n",
    "for epoch in range(n_epoch):\n",
    "    train_epoch_loss = val_epoch_loss = 0\n",
    "    model.train()\n",
    "    for n_batch, (x, idxs, y) in enumerate(train_loader):\n",
    "        y_hat = model(x, idxs)\n",
    "        loss = loss_fn(y_hat.squeeze(axis=1), y)\n",
    "        optimizer.zero_grad()\n",
    "\n",
    "        loss.backward()\n",
    "\n",
    "        optimizer.step()\n",
    "\n",
    "        train_epoch_loss += loss.item()\n",
    "\n",
    "    model.eval()\n",
    "    with torch.no_grad():\n",
    "        for n_batch, (x, idxs, y) in enumerate(val_loader):\n",
    "            y_hat = model(x, idxs)\n",
    "            loss = loss_fn(y_hat.squeeze(axis=1), y)\n",
    "\n",
    "            val_epoch_loss += loss.item()\n",
    "    \n",
    "    train_epoch_logs.append(train_epoch_loss/len(train_loader)) \n",
    "    val_epoch_logs.append(val_epoch_loss/len(val_loader))\n",
    "    scheduler.step(train_epoch_loss/len(train_loader))\n",
    "    if epoch % 5 == 0:\n",
    "        print(f'Epoch: {epoch+1} | Train Loss: {train_epoch_loss/len(train_loader):.4} | Val Loss: {val_epoch_loss/(len(val_loader)):.4}')"
   ]
  },
  {
   "attachments": {},
   "cell_type": "markdown",
   "metadata": {},
   "source": [
    "## Candidate Generator"
   ]
  },
  {
   "attachments": {},
   "cell_type": "markdown",
   "metadata": {},
   "source": [
    "### Feature Engineering"
   ]
  },
  {
   "cell_type": "code",
   "execution_count": 38,
   "metadata": {},
   "outputs": [
    {
     "name": "stderr",
     "output_type": "stream",
     "text": [
      "100%|██████████| 668/668 [00:12<00:00, 53.60it/s]\n"
     ]
    }
   ],
   "source": [
    "# add last 50 watched movies' indexes to each observation (index 10325 is padding idx)\n",
    "ls = {}\n",
    "for i in tqdm(range(df.userId.unique().shape[0])): \n",
    "    new_df = df[df.userId==i][['userId','movieId', 'rating', 'time']]\n",
    "    new_df.reset_index(inplace=True)\n",
    "    for j in range(new_df.shape[0]):\n",
    "        features = new_df.iloc[j, :]\n",
    "        if features.name == 0:\n",
    "            ls[features.name] = [10325]\n",
    "        else:\n",
    "            idx = features.name\n",
    "            new_df.iloc[idx-1,1]\n",
    "            ls[features['index']] = list(new_df.iloc[:idx,2])\n",
    "\n",
    "for i in range(105339):\n",
    "    try:\n",
    "        ls[i]\n",
    "    except:\n",
    "        ls[i] = [10325]\n",
    "\n",
    "def func(x):\n",
    "    return x[-50:]\n",
    "\n",
    "ls = {k:func(v) for k, v in ls.items()}\n",
    "\n",
    "def padder(x):\n",
    "    return x + (50 - len(x)) * [10325]\n",
    "\n",
    "ls = {k:padder(v) for k, v in ls.items()}\n",
    "\n",
    "df['watched_movies'] = df.index.map(lambda x: np.array(ls[x]))"
   ]
  },
  {
   "cell_type": "code",
   "execution_count": 39,
   "metadata": {},
   "outputs": [],
   "source": [
    "dummy_cols = ['weekend', 'hour', 'quarter_2','quarter_3', 'quarter_4', 'month_2',\n",
    "              'month_3', 'month_4', 'month_5', 'month_6', 'month_7', 'month_8',\n",
    "              'month_9', 'month_10', 'month_11', 'month_12', 'day_1', 'day_2',\n",
    "              'day_3', 'day_4', 'day_5', 'day_6', 'part_of_day_Evening',\n",
    "              'part_of_day_Morning', 'part_of_day_Night']"
   ]
  },
  {
   "cell_type": "code",
   "execution_count": 40,
   "metadata": {},
   "outputs": [],
   "source": [
    "train_df = df[df.movieId>80]\n",
    "val_df = df[df.userId<=40]\n",
    "test_df = df[(df.userId>40)&(df.userId<=80)]"
   ]
  },
  {
   "cell_type": "code",
   "execution_count": 41,
   "metadata": {},
   "outputs": [],
   "source": [
    "X_int_train = train_df['movieId'].values                                                 # indices of target movies\n",
    "Xd_train = train_df[dummy_cols].values                                                   # user/time features\n",
    "Xw_train = np.array([np.array(i,dtype=int) for i in train_df['watched_movies'].values])  # indices of last 50 movies watched\n",
    "\n",
    "X_int_val = val_df[ 'movieId'].values\n",
    "Xd_val = val_df[dummy_cols].values\n",
    "Xw_val = np.array([np.array(i,dtype=int) for i in val_df['watched_movies'].values]) \n",
    "\n",
    "X_int_test = test_df[ 'movieId'].values\n",
    "Xd_test = test_df[dummy_cols].values\n",
    "Xw_test = np.array([np.array(i,dtype=int) for i in test_df['watched_movies'].values]) \n",
    "\n",
    "X_int_train, Xd_train = torch.Tensor(X_int_train).long(), torch.Tensor(Xd_train).float()\n",
    "Xw_train = torch.Tensor(Xw_train).long()\n",
    "\n",
    "X_int_val, Xd_val = torch.Tensor(X_int_val).long(), torch.Tensor(Xd_val).float()\n",
    "Xw_val = torch.Tensor(Xw_val).long()\n",
    "\n",
    "X_int_test, Xd_test = torch.Tensor(X_int_test).long(), torch.Tensor(Xd_test).float()\n",
    "Xw_test = torch.Tensor(Xw_test).long()"
   ]
  },
  {
   "cell_type": "code",
   "execution_count": 42,
   "metadata": {},
   "outputs": [
    {
     "data": {
      "text/plain": [
       "(torch.Size([4096]), torch.Size([4096, 25]), torch.Size([4096, 50]))"
      ]
     },
     "execution_count": 42,
     "metadata": {},
     "output_type": "execute_result"
    }
   ],
   "source": [
    "class DatasetForCandidateGenerator(Dataset):\n",
    "    def __init__(self, X_int, Xd, Xw):\n",
    "        self.X_int = X_int\n",
    "        self.Xd = Xd\n",
    "        self.Xw = Xw\n",
    "    \n",
    "    def __len__(self):\n",
    "        return self.X_int.shape[0]\n",
    "    \n",
    "    def __getitem__(self, idx):\n",
    "        return self.X_int[idx], self.Xd[idx], self.Xw[idx]\n",
    "\n",
    "train_dataset = DatasetForCandidateGenerator(X_int_train, Xd_train, Xw_train)\n",
    "val_dataset = DatasetForCandidateGenerator(X_int_val, Xd_val, Xw_val)\n",
    "test_dataset = DatasetForCandidateGenerator(X_int_test, Xd_test, Xw_test)\n",
    "\n",
    "train_loader = DataLoader(train_dataset, batch_size=batch_size, shuffle=True)\n",
    "val_loader = DataLoader(val_dataset, batch_size=batch_size, shuffle=True)\n",
    "test_loader = DataLoader(test_dataset, batch_size=batch_size, shuffle=False)\n",
    "\n",
    "a, b, c = next(iter(train_loader))\n",
    "a.shape, b.shape, c.shape"
   ]
  },
  {
   "cell_type": "code",
   "execution_count": 43,
   "metadata": {},
   "outputs": [],
   "source": [
    "class CandidatesGenerator(nn.Module):\n",
    "    def __init__(self, \n",
    "                 n_movies,\n",
    "                 movie_emb_dim,    \n",
    "                 sparse_matrix_dim,\n",
    "                 hidden_dim):\n",
    "        super().__init__()\n",
    "        # embedding for movies\n",
    "        self.movie_embd = nn.Embedding(n_movies+1, movie_emb_dim, padding_idx=n_movies)\n",
    "\n",
    "        # linear layers\n",
    "        self.ln1 = nn.Linear(movie_emb_dim + sparse_matrix_dim, hidden_dim * 4)\n",
    "        self.ln2 = nn.Linear(hidden_dim * 4, hidden_dim * 2)\n",
    "\n",
    "        # classifier layers\n",
    "        self.classifier = nn.Linear(hidden_dim * 2, n_movies)\n",
    "\n",
    "        # dropout\n",
    "        self.dropout = nn.Dropout(p=0.3)\n",
    "\n",
    "    def forward(self, Xd, Xw):\n",
    "        # get average vectors of watched movies\n",
    "        watched_embedding = torch.mean(self.movie_embd(Xw.long()), axis=1)\n",
    "        # concatenate watched movies' vector to user features \n",
    "        out = torch.cat([Xd, watched_embedding], axis=1)\n",
    "\n",
    "        out = self.ln1(out)\n",
    "        out = F.leaky_relu(out, negative_slope=0.2)\n",
    "        out = self.dropout(out)\n",
    "\n",
    "        out = self.ln2(out)\n",
    "        logits = F.leaky_relu(out, negative_slope=0.2)\n",
    "        logits = self.dropout(logits)\n",
    "\n",
    "        logits = self.classifier(logits)\n",
    "        return out, logits"
   ]
  },
  {
   "cell_type": "code",
   "execution_count": 45,
   "metadata": {},
   "outputs": [
    {
     "data": {
      "text/plain": [
       "CandidatesGenerator(\n",
       "  (movie_embd): Embedding(10326, 32, padding_idx=10325)\n",
       "  (ln1): Linear(in_features=80, out_features=256, bias=True)\n",
       "  (ln2): Linear(in_features=256, out_features=128, bias=True)\n",
       "  (classifier): Linear(in_features=128, out_features=10325, bias=True)\n",
       "  (dropout): Dropout(p=0.3, inplace=False)\n",
       ")"
      ]
     },
     "execution_count": 45,
     "metadata": {},
     "output_type": "execute_result"
    }
   ],
   "source": [
    "model = CandidatesGenerator(n_movies=10325,\n",
    "                            movie_emb_dim=32,    \n",
    "                            sparse_matrix_dim=48,\n",
    "                            hidden_dim=64)\n",
    "model"
   ]
  },
  {
   "cell_type": "code",
   "execution_count": 46,
   "metadata": {},
   "outputs": [
    {
     "name": "stdout",
     "output_type": "stream",
     "text": [
      "=================================================================\n",
      "Layer (type:depth-idx)                   Param #\n",
      "=================================================================\n",
      "├─Embedding: 1-1                         330,432\n",
      "├─Linear: 1-2                            20,736\n",
      "├─Linear: 1-3                            32,896\n",
      "├─Linear: 1-4                            1,331,925\n",
      "├─Dropout: 1-5                           --\n",
      "=================================================================\n",
      "Total params: 1,715,989\n",
      "Trainable params: 1,715,989\n",
      "Non-trainable params: 0\n",
      "=================================================================\n"
     ]
    },
    {
     "data": {
      "text/plain": [
       "=================================================================\n",
       "Layer (type:depth-idx)                   Param #\n",
       "=================================================================\n",
       "├─Embedding: 1-1                         330,432\n",
       "├─Linear: 1-2                            20,736\n",
       "├─Linear: 1-3                            32,896\n",
       "├─Linear: 1-4                            1,331,925\n",
       "├─Dropout: 1-5                           --\n",
       "=================================================================\n",
       "Total params: 1,715,989\n",
       "Trainable params: 1,715,989\n",
       "Non-trainable params: 0\n",
       "================================================================="
      ]
     },
     "execution_count": 46,
     "metadata": {},
     "output_type": "execute_result"
    }
   ],
   "source": [
    "summary(model, input=(a,b,c))"
   ]
  },
  {
   "cell_type": "code",
   "execution_count": 84,
   "metadata": {},
   "outputs": [],
   "source": [
    "lr_rate = 0.0004\n",
    "n_epoch = 110\n",
    "\n",
    "loss_fn = torch.nn.CrossEntropyLoss()\n",
    "optimizer = torch.optim.Adam(model.parameters(), lr=lr_rate)\n",
    "scheduler = torch.optim.lr_scheduler.ReduceLROnPlateau(optimizer, factor=0.1, patience=2, verbose=False)"
   ]
  },
  {
   "cell_type": "code",
   "execution_count": 77,
   "metadata": {},
   "outputs": [],
   "source": [
    "train_epoch_losses, val_epoch_losses = [], []"
   ]
  },
  {
   "cell_type": "code",
   "execution_count": 85,
   "metadata": {},
   "outputs": [
    {
     "name": "stdout",
     "output_type": "stream",
     "text": [
      "Epoch: 1 | Train Loss: 4.29 | Train Acc: 0.177 | Val Loss: 5.3 | Vall Acc: 0.204\n",
      "Epoch: 6 | Train Loss: 4.27 | Train Acc: 0.18 | Val Loss: 5.3 | Vall Acc: 0.204\n"
     ]
    }
   ],
   "source": [
    "for epoch in range(n_epoch):\n",
    "    train_epoch_loss, val_epoch_loss = 0, 0\n",
    "    train_epoch_acc, val_epoch_acc = 0, 0\n",
    "    \n",
    "    model.train()\n",
    "    for n_batch, (X_int, Xd, Xw) in enumerate(train_loader):\n",
    "        y_hat, logits = model(Xd, Xw)\n",
    "        loss = loss_fn(logits, X_int)\n",
    "        \n",
    "        optimizer.zero_grad()\n",
    "        loss.backward()\n",
    "    \n",
    "        optimizer.step()\n",
    "        train_epoch_loss += loss.item()\n",
    "        train_epoch_acc += (torch.argmax(F.softmax(logits, dim=1), axis=1) == X_int).sum().item() /  X_int.size()[0]\n",
    "    \n",
    "    model.eval()\n",
    "    with torch.no_grad():\n",
    "        for n_batch, (X_int, Xd, Xw) in enumerate(val_loader):\n",
    "            y_hat, logits = model(Xd, Xw)\n",
    "            loss = loss_fn(logits, X_int)\n",
    "            val_epoch_loss += loss.item()\n",
    "            val_epoch_acc += (torch.argmax(F.softmax(logits, dim=1), axis=1) == X_int).sum().item() /  X_int.size()[0]\n",
    "    \n",
    "    train_epoch_losses.append(train_epoch_loss/len(train_loader))\n",
    "    val_epoch_losses.append(val_epoch_loss/len(val_loader))\n",
    "    scheduler.step(train_epoch_loss/len(train_loader))\n",
    "    if epoch % 5 == 0:\n",
    "        print(f'Epoch: {epoch+1} | Train Loss: {train_epoch_loss/len(train_loader):.3} | Train Acc: {train_epoch_acc / len(train_loader):.3} \\\n",
    "| Val Loss: {val_epoch_loss/len(val_loader):.3} | Vall Acc: {val_epoch_acc / len(val_loader):.3}')"
   ]
  },
  {
   "cell_type": "code",
   "execution_count": 88,
   "metadata": {},
   "outputs": [],
   "source": [
    "torch.save(model.state_dict(), 'weights/CGWeights1.pt')"
   ]
  },
  {
   "attachments": {},
   "cell_type": "markdown",
   "metadata": {},
   "source": [
    "## Vizualization"
   ]
  },
  {
   "cell_type": "code",
   "execution_count": 103,
   "metadata": {},
   "outputs": [
    {
     "data": {
      "image/png": "[encoded data removed]",
      "text/plain": [
       "<Figure size 2500x800 with 2 Axes>"
      ]
     },
     "metadata": {},
     "output_type": "display_data"
    }
   ],
   "source": [
    "fig, ax = plt.subplots(1,2, figsize=(25, 8), facecolor='lavender')\n",
    "\n",
    "ax[0].set_title(\"MatrixFactorizationMachine\", size=24)\n",
    "ax[0].plot([*range(len(train_epoch_losses))], train_epoch_losses, linewidth=3)\n",
    "ax[0].plot([*range(len(val_epoch_losses))], val_epoch_losses, linewidth=3)\n",
    "ax[0].set_ylabel('Loss', size=25)\n",
    "ax[0].set_xlabel('Epoch', size=20)\n",
    "\n",
    "ax[1].set_title(\"CandidatesGenerator\", size=24)\n",
    "ax[1].plot([*range(len(train_epoch_logs))], train_epoch_logs, linewidth=3)\n",
    "ax[1].plot([*range(len(val_epoch_logs))], val_epoch_logs, linewidth=3)\n",
    "ax[1].set_ylabel('Loss', size=25)\n",
    "ax[1].set_xlabel('Epoch', size=20)\n",
    "plt.savefig(\"charts/training.png\", dpi=300);"
   ]
  },
  {
   "cell_type": "code",
   "execution_count": 104,
   "metadata": {},
   "outputs": [],
   "source": [
    "train_embds = None\n",
    "train_ints = None\n",
    "model.eval()\n",
    "with torch.no_grad():\n",
    "    for n_batch, (X_int, Xd, Xw) in enumerate(train_loader):\n",
    "        y_hat, _ = model(Xd, Xw)\n",
    "        if train_embds == None:\n",
    "            train_embds = y_hat\n",
    "            train_ints = X_int\n",
    "        else:\n",
    "            train_embds = torch.cat([train_embds, y_hat], axis=0)\n",
    "            train_ints = torch.cat([train_ints, X_int], axis=0)\n",
    "\n",
    "val_embds = None\n",
    "val_ints = None\n",
    "model.eval()\n",
    "with torch.no_grad():\n",
    "    for n_batch, (X_int, Xd, Xw) in enumerate(val_loader):\n",
    "        y_hat, _ = model(Xd, Xw)\n",
    "        if val_embds == None:\n",
    "            val_embds = y_hat\n",
    "            val_ints = X_int\n",
    "        else:\n",
    "            val_embds = torch.cat([val_embds,y_hat], axis=0)\n",
    "            val_ints = torch.cat([val_ints,X_int], axis=0)\n",
    "\n",
    "test_embds = None\n",
    "test_ints = None\n",
    "model.eval()\n",
    "with torch.no_grad():\n",
    "    for n_batch, (X_int, Xd, Xw) in enumerate(test_loader):\n",
    "        y_hat, _ = model(Xd, Xw)\n",
    "        if test_embds == None:\n",
    "            test_embds = y_hat\n",
    "            test_ints = X_int\n",
    "        else:\n",
    "            test_embds = torch.cat([test_embds,y_hat], axis=0)\n",
    "            test_ints = torch.cat([test_ints,X_int], axis=0)"
   ]
  },
  {
   "cell_type": "code",
   "execution_count": 105,
   "metadata": {},
   "outputs": [
    {
     "data": {
      "text/plain": [
       "(torch.Size([101947, 128]), torch.Size([3944, 128]), torch.Size([5388, 128]))"
      ]
     },
     "execution_count": 105,
     "metadata": {},
     "output_type": "execute_result"
    }
   ],
   "source": [
    "train_embds.shape, val_embds.shape, test_embds.shape"
   ]
  },
  {
   "cell_type": "code",
   "execution_count": 121,
   "metadata": {},
   "outputs": [],
   "source": [
    "index = faiss.IndexFlatL2(128)\n",
    "index.add(train_embds.detach().numpy())\n",
    "\n",
    "val_scores, val_indices = index.search(val_embds.detach().numpy(), 10)\n",
    "test_scores, test_indices = index.search(test_embds.detach().numpy(), 10)"
   ]
  },
  {
   "cell_type": "code",
   "execution_count": 122,
   "metadata": {},
   "outputs": [
    {
     "data": {
      "text/plain": [
       "array([[ 15910,  30524,  89861, ..., 100362,  18155,  46016],\n",
       "       [ 30524,  15910,  53870, ...,  74832,  89861,  99142],\n",
       "       [ 53870,  30524,  74832, ...,  34087,  86324,  13319],\n",
       "       ...,\n",
       "       [ 81620,   7041,  68522, ...,   9610,  84298,  48773],\n",
       "       [  7041,  18495,  81620, ...,   9610,  84298,  37405],\n",
       "       [ 18495,   7041,  81620, ...,   9610,  37405,  84298]])"
      ]
     },
     "execution_count": 122,
     "metadata": {},
     "output_type": "execute_result"
    }
   ],
   "source": [
    "test_indices"
   ]
  },
  {
   "cell_type": "code",
   "execution_count": 142,
   "metadata": {},
   "outputs": [
    {
     "data": {
      "text/plain": [
       "(5388, 10)"
      ]
     },
     "execution_count": 142,
     "metadata": {},
     "output_type": "execute_result"
    }
   ],
   "source": [
    "test_indices.shape"
   ]
  },
  {
   "cell_type": "code",
   "execution_count": 146,
   "metadata": {},
   "outputs": [
    {
     "data": {
      "text/plain": [
       "['Hunt for Red October, The (1990)',\n",
       " 'Mrs. Doubtfire (1993)',\n",
       " 'Club Dread (2004)',\n",
       " \"Monty Python's The Meaning of Life (1983)\",\n",
       " 'Memento (2000)',\n",
       " \"Men Don't Leave (1990)\",\n",
       " 'The Lair of the White Worm (1988)',\n",
       " 'Star Trek: First Contact (1996)',\n",
       " 'Avengers, The (2012)',\n",
       " 'Send Me No Flowers (1964)']"
      ]
     },
     "execution_count": 146,
     "metadata": {},
     "output_type": "execute_result"
    }
   ],
   "source": [
    "list(df[df.index.isin(test_indices[0])].title)"
   ]
  },
  {
   "cell_type": "code",
   "execution_count": 154,
   "metadata": {},
   "outputs": [
    {
     "data": {
      "text/plain": [
       "userId                                                                     41\n",
       "movieId                                                                  9265\n",
       "rating                                                                    5.0\n",
       "timestamp                                                 2014-05-03 13:49:32\n",
       "title                                                     Intouchables (2011)\n",
       "                                                  ...                        \n",
       "watched_movies              [1114, 951, 1914, 208, 2594, 1851, 3509, 1796,...\n",
       "avg_current_rating                                                   3.872093\n",
       "has_0_review                                                                0\n",
       "avg_current_rating_sqrt                                              1.967763\n",
       "avg_current_rating_suare                                            14.993104\n",
       "Name: 53787, Length: 96, dtype: object"
      ]
     },
     "execution_count": 154,
     "metadata": {},
     "output_type": "execute_result"
    }
   ],
   "source": [
    "test_df.iloc[20,:]"
   ]
  },
  {
   "cell_type": "code",
   "execution_count": 166,
   "metadata": {},
   "outputs": [
    {
     "name": "stdout",
     "output_type": "stream",
     "text": [
      "UserId: 41\n",
      "------------------------------------------------\n",
      "Number of Watched Movies: 0\n",
      "------------------------------------------------\n",
      "Reccomended Movie Titles:\n",
      "\n",
      "Hunt for Red October, The (1990)\n",
      "Mrs. Doubtfire (1993)\n",
      "Club Dread (2004)\n",
      "Monty Python's The Meaning of Life (1983)\n",
      "Memento (2000)\n",
      "Men Don't Leave (1990)\n",
      "The Lair of the White Worm (1988)\n",
      "Star Trek: First Contact (1996)\n",
      "Avengers, The (2012)\n",
      "Send Me No Flowers (1964)\n",
      "------------------------------------------------\n",
      "################################################\n",
      "UserId: 41\n",
      "------------------------------------------------\n",
      "Number of Watched Movies: 20\n",
      "Watched Movie Names:\n",
      "\n",
      "Little Women (1994)\n",
      "Silence of the Lambs, The (1991)\n",
      "Terminator 2: Judgment Day (1991)\n",
      "Fugitive, The (1993)\n",
      "Schindler's List (1993)\n",
      "Speed (1994)\n",
      "Twelve Monkeys (a.k.a. 12 Monkeys) (1995)\n",
      "Terminator 2: Judgment Day (1991)\n",
      "Apollo 13 (1995)\n",
      "Star Wars: Episode IV - A New Hope (1977)\n",
      "Apollo 13 (1995)\n",
      "Schindler's List (1993)\n",
      "Seven (a.k.a. Se7en) (1995)\n",
      "Twelve Monkeys (a.k.a. 12 Monkeys) (1995)\n",
      "Star Wars: Episode IV - A New Hope (1977)\n",
      "Braveheart (1995)\n",
      "Fugitive, The (1993)\n",
      "Braveheart (1995)\n",
      "Shawshank Redemption, The (1994)\n",
      "Star Wars: Episode IV - A New Hope (1977)\n",
      "------------------------------------------------\n",
      "Reccomended Movie Titles:\n",
      "\n",
      "Field of Dreams (1989)\n",
      "In the Heat of the Night (1967)\n",
      "Searching for Bobby Fischer (1993)\n",
      "Night Porter, The (Portiere di notte, Il) (1974)\n",
      "Never Been Kissed (1999)\n",
      "Chicken Run (2000)\n",
      "Pursuit of Happyness, The (2006)\n",
      "Django Unchained (2012)\n",
      "Mars Attacks! (1996)\n",
      "Ravenous (1999)\n",
      "------------------------------------------------\n"
     ]
    }
   ],
   "source": [
    "print(f'UserId: {test_df.iloc[0,0]}')\n",
    "print('------------------------------------------------')\n",
    "print(f'Number of Watched Movies: {0}')\n",
    "print('------------------------------------------------')\n",
    "print('Reccomended Movie Titles:')\n",
    "print('')\n",
    "for i in list(df[df.index.isin(test_indices[0])].title):\n",
    "    print(i)\n",
    "print('------------------------------------------------')\n",
    "print('################################################')\n",
    "print(f'UserId: {test_df.iloc[20,0]}')\n",
    "print('------------------------------------------------')\n",
    "print(f'Number of Watched Movies: {20}')\n",
    "('------------------------------------------------')\n",
    "print('Watched Movie Names:')\n",
    "print('')\n",
    "for i in list(df[df.index.isin(list(test_df.iloc[20,:].watched_movies[:20]))].title):\n",
    "    print(i)\n",
    "print('------------------------------------------------')\n",
    "print('Reccomended Movie Titles:')\n",
    "print('')\n",
    "for i in list(df[df.index.isin(test_indices[20])].title):\n",
    "    print(i)\n",
    "print('------------------------------------------------')"
   ]
  }
 ],
 "metadata": {
  "kernelspec": {
   "display_name": "base",
   "language": "python",
   "name": "python3"
  },
  "language_info": {
   "codemirror_mode": {
    "name": "ipython",
    "version": 3
   },
   "file_extension": ".py",
   "mimetype": "text/x-python",
   "name": "python",
   "nbconvert_exporter": "python",
   "pygments_lexer": "ipython3",
   "version": "3.10.9"
  },
  "orig_nbformat": 4
 },
 "nbformat": 4,
 "nbformat_minor": 2
}
